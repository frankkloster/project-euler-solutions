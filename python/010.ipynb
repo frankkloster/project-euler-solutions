{
 "cells": [
  {
   "cell_type": "markdown",
   "metadata": {},
   "source": [
    "# Problem 010\n",
    "\n",
    "The sum of the primes below $10$ is $2 + 3 + 5 + 7 = 17$.\n",
    "\n",
    "Find the sum of all the primes below two million."
   ]
  },
  {
   "cell_type": "markdown",
   "metadata": {},
   "source": [
    "# Solution\n",
    "\n",
    "Using the Sieve of Eratosthenes again, as discussed in [problem 7](./007.ipynb)."
   ]
  },
  {
   "cell_type": "code",
   "execution_count": 2,
   "metadata": {},
   "outputs": [],
   "source": [
    "def sieve_of_eratosthenes(n):\n",
    "    \"\"\"\n",
    "    Returns a list of prime numbers up to n.\n",
    "    \"\"\"\n",
    "    # Uses dictionaries for fast lookup.\n",
    "    is_prime = {i: True for i in range(2, n + 1)}\n",
    "    for i in is_prime:\n",
    "        if is_prime[i]:\n",
    "            j = 2 * i\n",
    "            while (j <= n):\n",
    "                is_prime[j] = False\n",
    "                j += i\n",
    "    \n",
    "    # Convert to list by looking where dict is true.\n",
    "    return [i for i in is_prime if is_prime[i]]"
   ]
  },
  {
   "cell_type": "code",
   "execution_count": 3,
   "metadata": {},
   "outputs": [
    {
     "data": {
      "text/plain": [
       "142913828922"
      ]
     },
     "execution_count": 3,
     "metadata": {},
     "output_type": "execute_result"
    }
   ],
   "source": [
    "sum(sieve_of_eratosthenes(2000000))"
   ]
  }
 ],
 "metadata": {
  "kernelspec": {
   "display_name": "Python 3",
   "language": "python",
   "name": "python3"
  },
  "language_info": {
   "codemirror_mode": {
    "name": "ipython",
    "version": 3
   },
   "file_extension": ".py",
   "mimetype": "text/x-python",
   "name": "python",
   "nbconvert_exporter": "python",
   "pygments_lexer": "ipython3",
   "version": "3.7.4"
  }
 },
 "nbformat": 4,
 "nbformat_minor": 2
}
