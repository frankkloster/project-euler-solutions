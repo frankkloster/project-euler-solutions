{
 "cells": [
  {
   "cell_type": "markdown",
   "metadata": {},
   "source": [
    "# Problem 007\n",
    "\n",
    "By listing the first six prime numbers: 2, 3, 5, 7, 11, and 13, we can see that the 6th prime is 13.\n",
    "\n",
    "What is the 10,001st prime number?"
   ]
  },
  {
   "cell_type": "markdown",
   "metadata": {},
   "source": [
    "# Solution"
   ]
  },
  {
   "cell_type": "markdown",
   "metadata": {},
   "source": [
    "We use the [sieve of erastosthenes](https://en.wikipedia.org/wiki/Sieve_of_Eratosthenes) to generate a list of primes (up to a particular limit). The algorithm is described as follows:\n",
    "\n",
    "```\n",
    "list = [2, 3,..., n]\n",
    "for (p in list) {\n",
    "    remove 2p, 3p,... from list\n",
    "}\n",
    "```\n",
    "\n",
    "We implement the algorithm below."
   ]
  },
  {
   "cell_type": "code",
   "execution_count": 18,
   "metadata": {},
   "outputs": [],
   "source": [
    "def sieve_of_eratosthenes(n):\n",
    "    \"\"\"\n",
    "    Returns a list of prime numbers up to n.\n",
    "    \"\"\"\n",
    "    # Uses dictionaries for fast lookup.\n",
    "    is_prime = {i: True for i in range(2, n + 1)}\n",
    "    for i in is_prime:\n",
    "        if is_prime[i]:\n",
    "            j = 2 * i\n",
    "            while (j <= n):\n",
    "                is_prime[j] = False\n",
    "                j += i\n",
    "    \n",
    "    # Convert to list by looking where dict is true.\n",
    "    return [i for i in is_prime if is_prime[i]]"
   ]
  },
  {
   "cell_type": "markdown",
   "metadata": {},
   "source": [
    "With this, we pick a number sufficiently large to generate at least 10001 primes. In theory, we can stop the process of the above function after we obtain a list of 10001 primes. But for the sake of simplicity, we shall omit this. The algorithm itself is very effecient, so it's not too much of a worry."
   ]
  },
  {
   "cell_type": "code",
   "execution_count": 22,
   "metadata": {},
   "outputs": [],
   "source": [
    "primes = sieve_of_eratosthenes(1000000)"
   ]
  },
  {
   "cell_type": "code",
   "execution_count": 26,
   "metadata": {},
   "outputs": [
    {
     "name": "stdout",
     "output_type": "stream",
     "text": [
      "104743\n"
     ]
    }
   ],
   "source": [
    "print(primes[10000])"
   ]
  }
 ],
 "metadata": {
  "kernelspec": {
   "display_name": "Python 3",
   "language": "python",
   "name": "python3"
  },
  "language_info": {
   "codemirror_mode": {
    "name": "ipython",
    "version": 3
   },
   "file_extension": ".py",
   "mimetype": "text/x-python",
   "name": "python",
   "nbconvert_exporter": "python",
   "pygments_lexer": "ipython3",
   "version": "3.7.4"
  }
 },
 "nbformat": 4,
 "nbformat_minor": 2
}
